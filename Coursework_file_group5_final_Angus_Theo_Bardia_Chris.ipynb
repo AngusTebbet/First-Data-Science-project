{
 "cells": [
  {
   "cell_type": "markdown",
   "id": "b2482362",
   "metadata": {},
   "source": [
    "# Importing Libraries"
   ]
  },
  {
   "cell_type": "code",
   "execution_count": 1,
   "id": "a75e273c",
   "metadata": {},
   "outputs": [],
   "source": [
    "# Importing python libraries\n",
    "import numpy as np\n",
    "import pandas as pd\n",
    "\n",
    "# For all the graphs\n",
    "import matplotlib as mpl\n",
    "import matplotlib.pyplot as plt\n",
    "import matplotlib.dates as mdates\n",
    "\n",
    "import sklearn\n",
    "assert sklearn.__version__ >= \"0.20\", 'You need version 0.2 or greater of Scikit-learn'\n",
    "from sklearn.preprocessing import PolynomialFeatures\n",
    "# Import the Scikit-Learn models that you intend to use\n",
    "import sklearn.linear_model\n",
    "from sklearn.model_selection import train_test_split\n",
    "from sklearn.linear_model import LinearRegression"
   ]
  },
  {
   "cell_type": "markdown",
   "id": "363dd964",
   "metadata": {},
   "source": [
    "# Import,  wrangling and cleaning data \n",
    "## Import data, first download the csv file. Set the date format correctly in excel. Use unique filepath for each device."
   ]
  },
  {
   "cell_type": "code",
   "execution_count": 2,
   "id": "fb896812",
   "metadata": {},
   "outputs": [],
   "source": [
    "product_data = pd.read_csv(r'data.csv', thousands = \",\") # read the .csv file"
   ]
  },
  {
   "cell_type": "code",
   "execution_count": 3,
   "id": "b384059a",
   "metadata": {},
   "outputs": [
    {
     "data": {
      "text/html": [
       "<div>\n",
       "<style scoped>\n",
       "    .dataframe tbody tr th:only-of-type {\n",
       "        vertical-align: middle;\n",
       "    }\n",
       "\n",
       "    .dataframe tbody tr th {\n",
       "        vertical-align: top;\n",
       "    }\n",
       "\n",
       "    .dataframe thead th {\n",
       "        text-align: right;\n",
       "    }\n",
       "</style>\n",
       "<table border=\"1\" class=\"dataframe\">\n",
       "  <thead>\n",
       "    <tr style=\"text-align: right;\">\n",
       "      <th></th>\n",
       "      <th>Product_Code</th>\n",
       "      <th>Warehouse</th>\n",
       "      <th>Product_Category</th>\n",
       "      <th>Date</th>\n",
       "      <th>Order_Demand</th>\n",
       "    </tr>\n",
       "  </thead>\n",
       "  <tbody>\n",
       "    <tr>\n",
       "      <th>0</th>\n",
       "      <td>Product_0993</td>\n",
       "      <td>Whse_J</td>\n",
       "      <td>Category_028</td>\n",
       "      <td>2012-07-27</td>\n",
       "      <td>100</td>\n",
       "    </tr>\n",
       "    <tr>\n",
       "      <th>1</th>\n",
       "      <td>Product_0979</td>\n",
       "      <td>Whse_J</td>\n",
       "      <td>Category_028</td>\n",
       "      <td>2012-01-19</td>\n",
       "      <td>500</td>\n",
       "    </tr>\n",
       "    <tr>\n",
       "      <th>2</th>\n",
       "      <td>Product_0979</td>\n",
       "      <td>Whse_J</td>\n",
       "      <td>Category_028</td>\n",
       "      <td>2012-02-03</td>\n",
       "      <td>500</td>\n",
       "    </tr>\n",
       "    <tr>\n",
       "      <th>3</th>\n",
       "      <td>Product_0979</td>\n",
       "      <td>Whse_J</td>\n",
       "      <td>Category_028</td>\n",
       "      <td>2012-02-09</td>\n",
       "      <td>500</td>\n",
       "    </tr>\n",
       "    <tr>\n",
       "      <th>4</th>\n",
       "      <td>Product_0979</td>\n",
       "      <td>Whse_J</td>\n",
       "      <td>Category_028</td>\n",
       "      <td>2012-03-02</td>\n",
       "      <td>500</td>\n",
       "    </tr>\n",
       "    <tr>\n",
       "      <th>...</th>\n",
       "      <td>...</td>\n",
       "      <td>...</td>\n",
       "      <td>...</td>\n",
       "      <td>...</td>\n",
       "      <td>...</td>\n",
       "    </tr>\n",
       "    <tr>\n",
       "      <th>1048570</th>\n",
       "      <td>Product_1791</td>\n",
       "      <td>Whse_J</td>\n",
       "      <td>Category_006</td>\n",
       "      <td>2016-04-27</td>\n",
       "      <td>1000</td>\n",
       "    </tr>\n",
       "    <tr>\n",
       "      <th>1048571</th>\n",
       "      <td>Product_1974</td>\n",
       "      <td>Whse_J</td>\n",
       "      <td>Category_006</td>\n",
       "      <td>2016-04-27</td>\n",
       "      <td>1</td>\n",
       "    </tr>\n",
       "    <tr>\n",
       "      <th>1048572</th>\n",
       "      <td>Product_1787</td>\n",
       "      <td>Whse_J</td>\n",
       "      <td>Category_006</td>\n",
       "      <td>2016-04-28</td>\n",
       "      <td>2500</td>\n",
       "    </tr>\n",
       "    <tr>\n",
       "      <th>1048573</th>\n",
       "      <td>Product_0901</td>\n",
       "      <td>Whse_J</td>\n",
       "      <td>Category_023</td>\n",
       "      <td>2016-10-07</td>\n",
       "      <td>50</td>\n",
       "    </tr>\n",
       "    <tr>\n",
       "      <th>1048574</th>\n",
       "      <td>Product_0704</td>\n",
       "      <td>Whse_J</td>\n",
       "      <td>Category_001</td>\n",
       "      <td>2016-06-27</td>\n",
       "      <td>4</td>\n",
       "    </tr>\n",
       "  </tbody>\n",
       "</table>\n",
       "<p>1048575 rows × 5 columns</p>\n",
       "</div>"
      ],
      "text/plain": [
       "         Product_Code Warehouse Product_Category        Date  Order_Demand\n",
       "0        Product_0993    Whse_J     Category_028  2012-07-27           100\n",
       "1        Product_0979    Whse_J     Category_028  2012-01-19           500\n",
       "2        Product_0979    Whse_J     Category_028  2012-02-03           500\n",
       "3        Product_0979    Whse_J     Category_028  2012-02-09           500\n",
       "4        Product_0979    Whse_J     Category_028  2012-03-02           500\n",
       "...               ...       ...              ...         ...           ...\n",
       "1048570  Product_1791    Whse_J     Category_006  2016-04-27          1000\n",
       "1048571  Product_1974    Whse_J     Category_006  2016-04-27             1\n",
       "1048572  Product_1787    Whse_J     Category_006  2016-04-28          2500\n",
       "1048573  Product_0901    Whse_J     Category_023  2016-10-07            50\n",
       "1048574  Product_0704    Whse_J     Category_001  2016-06-27             4\n",
       "\n",
       "[1048575 rows x 5 columns]"
      ]
     },
     "execution_count": 3,
     "metadata": {},
     "output_type": "execute_result"
    }
   ],
   "source": [
    "# Display raw data\n",
    "\n",
    "product_data"
   ]
  },
  {
   "cell_type": "code",
   "execution_count": 39,
   "id": "c393c0d3",
   "metadata": {},
   "outputs": [
    {
     "ename": "KeyError",
     "evalue": "\"['Warehouse'] not found in axis\"",
     "output_type": "error",
     "traceback": [
      "\u001b[1;31m---------------------------------------------------------------------------\u001b[0m",
      "\u001b[1;31mKeyError\u001b[0m                                  Traceback (most recent call last)",
      "\u001b[1;32m<ipython-input-39-df80b59dd7a0>\u001b[0m in \u001b[0;36m<module>\u001b[1;34m\u001b[0m\n\u001b[0;32m      3\u001b[0m \u001b[0mproduct_data\u001b[0m\u001b[1;33m[\u001b[0m\u001b[1;34m'Date'\u001b[0m\u001b[1;33m]\u001b[0m\u001b[1;33m=\u001b[0m \u001b[0mpd\u001b[0m\u001b[1;33m.\u001b[0m\u001b[0mto_datetime\u001b[0m\u001b[1;33m(\u001b[0m\u001b[0mproduct_data\u001b[0m\u001b[1;33m[\u001b[0m\u001b[1;34m'Date'\u001b[0m\u001b[1;33m]\u001b[0m\u001b[1;33m)\u001b[0m\u001b[1;33m\u001b[0m\u001b[1;33m\u001b[0m\u001b[0m\n\u001b[0;32m      4\u001b[0m \u001b[0mproduct_data\u001b[0m \u001b[1;33m=\u001b[0m \u001b[0mproduct_data\u001b[0m\u001b[1;33m.\u001b[0m\u001b[0mdrop_duplicates\u001b[0m\u001b[1;33m(\u001b[0m\u001b[1;33m)\u001b[0m\u001b[1;33m\u001b[0m\u001b[1;33m\u001b[0m\u001b[0m\n\u001b[1;32m----> 5\u001b[1;33m \u001b[0mproduct_data\u001b[0m \u001b[1;33m=\u001b[0m \u001b[0mproduct_data\u001b[0m\u001b[1;33m.\u001b[0m\u001b[0mdrop\u001b[0m\u001b[1;33m(\u001b[0m\u001b[1;34m\"Warehouse\"\u001b[0m\u001b[1;33m,\u001b[0m \u001b[0maxis\u001b[0m \u001b[1;33m=\u001b[0m \u001b[1;36m1\u001b[0m\u001b[1;33m)\u001b[0m\u001b[1;33m\u001b[0m\u001b[1;33m\u001b[0m\u001b[0m\n\u001b[0m\u001b[0;32m      6\u001b[0m \u001b[0mproduct_data\u001b[0m \u001b[1;33m=\u001b[0m \u001b[0mproduct_data\u001b[0m\u001b[1;33m[\u001b[0m\u001b[1;33m~\u001b[0m\u001b[0mproduct_data\u001b[0m\u001b[1;33m[\u001b[0m\u001b[1;34m\"Date\"\u001b[0m\u001b[1;33m]\u001b[0m\u001b[1;33m.\u001b[0m\u001b[0misna\u001b[0m\u001b[1;33m(\u001b[0m\u001b[1;33m)\u001b[0m\u001b[1;33m]\u001b[0m\u001b[1;33m\u001b[0m\u001b[1;33m\u001b[0m\u001b[0m\n",
      "\u001b[1;32mC:\\ProgramData\\Anaconda3\\lib\\site-packages\\pandas\\core\\frame.py\u001b[0m in \u001b[0;36mdrop\u001b[1;34m(self, labels, axis, index, columns, level, inplace, errors)\u001b[0m\n\u001b[0;32m   4306\u001b[0m                 \u001b[0mweight\u001b[0m  \u001b[1;36m1.0\u001b[0m     \u001b[1;36m0.8\u001b[0m\u001b[1;33m\u001b[0m\u001b[1;33m\u001b[0m\u001b[0m\n\u001b[0;32m   4307\u001b[0m         \"\"\"\n\u001b[1;32m-> 4308\u001b[1;33m         return super().drop(\n\u001b[0m\u001b[0;32m   4309\u001b[0m             \u001b[0mlabels\u001b[0m\u001b[1;33m=\u001b[0m\u001b[0mlabels\u001b[0m\u001b[1;33m,\u001b[0m\u001b[1;33m\u001b[0m\u001b[1;33m\u001b[0m\u001b[0m\n\u001b[0;32m   4310\u001b[0m             \u001b[0maxis\u001b[0m\u001b[1;33m=\u001b[0m\u001b[0maxis\u001b[0m\u001b[1;33m,\u001b[0m\u001b[1;33m\u001b[0m\u001b[1;33m\u001b[0m\u001b[0m\n",
      "\u001b[1;32mC:\\ProgramData\\Anaconda3\\lib\\site-packages\\pandas\\core\\generic.py\u001b[0m in \u001b[0;36mdrop\u001b[1;34m(self, labels, axis, index, columns, level, inplace, errors)\u001b[0m\n\u001b[0;32m   4151\u001b[0m         \u001b[1;32mfor\u001b[0m \u001b[0maxis\u001b[0m\u001b[1;33m,\u001b[0m \u001b[0mlabels\u001b[0m \u001b[1;32min\u001b[0m \u001b[0maxes\u001b[0m\u001b[1;33m.\u001b[0m\u001b[0mitems\u001b[0m\u001b[1;33m(\u001b[0m\u001b[1;33m)\u001b[0m\u001b[1;33m:\u001b[0m\u001b[1;33m\u001b[0m\u001b[1;33m\u001b[0m\u001b[0m\n\u001b[0;32m   4152\u001b[0m             \u001b[1;32mif\u001b[0m \u001b[0mlabels\u001b[0m \u001b[1;32mis\u001b[0m \u001b[1;32mnot\u001b[0m \u001b[1;32mNone\u001b[0m\u001b[1;33m:\u001b[0m\u001b[1;33m\u001b[0m\u001b[1;33m\u001b[0m\u001b[0m\n\u001b[1;32m-> 4153\u001b[1;33m                 \u001b[0mobj\u001b[0m \u001b[1;33m=\u001b[0m \u001b[0mobj\u001b[0m\u001b[1;33m.\u001b[0m\u001b[0m_drop_axis\u001b[0m\u001b[1;33m(\u001b[0m\u001b[0mlabels\u001b[0m\u001b[1;33m,\u001b[0m \u001b[0maxis\u001b[0m\u001b[1;33m,\u001b[0m \u001b[0mlevel\u001b[0m\u001b[1;33m=\u001b[0m\u001b[0mlevel\u001b[0m\u001b[1;33m,\u001b[0m \u001b[0merrors\u001b[0m\u001b[1;33m=\u001b[0m\u001b[0merrors\u001b[0m\u001b[1;33m)\u001b[0m\u001b[1;33m\u001b[0m\u001b[1;33m\u001b[0m\u001b[0m\n\u001b[0m\u001b[0;32m   4154\u001b[0m \u001b[1;33m\u001b[0m\u001b[0m\n\u001b[0;32m   4155\u001b[0m         \u001b[1;32mif\u001b[0m \u001b[0minplace\u001b[0m\u001b[1;33m:\u001b[0m\u001b[1;33m\u001b[0m\u001b[1;33m\u001b[0m\u001b[0m\n",
      "\u001b[1;32mC:\\ProgramData\\Anaconda3\\lib\\site-packages\\pandas\\core\\generic.py\u001b[0m in \u001b[0;36m_drop_axis\u001b[1;34m(self, labels, axis, level, errors)\u001b[0m\n\u001b[0;32m   4186\u001b[0m                 \u001b[0mnew_axis\u001b[0m \u001b[1;33m=\u001b[0m \u001b[0maxis\u001b[0m\u001b[1;33m.\u001b[0m\u001b[0mdrop\u001b[0m\u001b[1;33m(\u001b[0m\u001b[0mlabels\u001b[0m\u001b[1;33m,\u001b[0m \u001b[0mlevel\u001b[0m\u001b[1;33m=\u001b[0m\u001b[0mlevel\u001b[0m\u001b[1;33m,\u001b[0m \u001b[0merrors\u001b[0m\u001b[1;33m=\u001b[0m\u001b[0merrors\u001b[0m\u001b[1;33m)\u001b[0m\u001b[1;33m\u001b[0m\u001b[1;33m\u001b[0m\u001b[0m\n\u001b[0;32m   4187\u001b[0m             \u001b[1;32melse\u001b[0m\u001b[1;33m:\u001b[0m\u001b[1;33m\u001b[0m\u001b[1;33m\u001b[0m\u001b[0m\n\u001b[1;32m-> 4188\u001b[1;33m                 \u001b[0mnew_axis\u001b[0m \u001b[1;33m=\u001b[0m \u001b[0maxis\u001b[0m\u001b[1;33m.\u001b[0m\u001b[0mdrop\u001b[0m\u001b[1;33m(\u001b[0m\u001b[0mlabels\u001b[0m\u001b[1;33m,\u001b[0m \u001b[0merrors\u001b[0m\u001b[1;33m=\u001b[0m\u001b[0merrors\u001b[0m\u001b[1;33m)\u001b[0m\u001b[1;33m\u001b[0m\u001b[1;33m\u001b[0m\u001b[0m\n\u001b[0m\u001b[0;32m   4189\u001b[0m             \u001b[0mresult\u001b[0m \u001b[1;33m=\u001b[0m \u001b[0mself\u001b[0m\u001b[1;33m.\u001b[0m\u001b[0mreindex\u001b[0m\u001b[1;33m(\u001b[0m\u001b[1;33m**\u001b[0m\u001b[1;33m{\u001b[0m\u001b[0maxis_name\u001b[0m\u001b[1;33m:\u001b[0m \u001b[0mnew_axis\u001b[0m\u001b[1;33m}\u001b[0m\u001b[1;33m)\u001b[0m\u001b[1;33m\u001b[0m\u001b[1;33m\u001b[0m\u001b[0m\n\u001b[0;32m   4190\u001b[0m \u001b[1;33m\u001b[0m\u001b[0m\n",
      "\u001b[1;32mC:\\ProgramData\\Anaconda3\\lib\\site-packages\\pandas\\core\\indexes\\base.py\u001b[0m in \u001b[0;36mdrop\u001b[1;34m(self, labels, errors)\u001b[0m\n\u001b[0;32m   5589\u001b[0m         \u001b[1;32mif\u001b[0m \u001b[0mmask\u001b[0m\u001b[1;33m.\u001b[0m\u001b[0many\u001b[0m\u001b[1;33m(\u001b[0m\u001b[1;33m)\u001b[0m\u001b[1;33m:\u001b[0m\u001b[1;33m\u001b[0m\u001b[1;33m\u001b[0m\u001b[0m\n\u001b[0;32m   5590\u001b[0m             \u001b[1;32mif\u001b[0m \u001b[0merrors\u001b[0m \u001b[1;33m!=\u001b[0m \u001b[1;34m\"ignore\"\u001b[0m\u001b[1;33m:\u001b[0m\u001b[1;33m\u001b[0m\u001b[1;33m\u001b[0m\u001b[0m\n\u001b[1;32m-> 5591\u001b[1;33m                 \u001b[1;32mraise\u001b[0m \u001b[0mKeyError\u001b[0m\u001b[1;33m(\u001b[0m\u001b[1;34mf\"{labels[mask]} not found in axis\"\u001b[0m\u001b[1;33m)\u001b[0m\u001b[1;33m\u001b[0m\u001b[1;33m\u001b[0m\u001b[0m\n\u001b[0m\u001b[0;32m   5592\u001b[0m             \u001b[0mindexer\u001b[0m \u001b[1;33m=\u001b[0m \u001b[0mindexer\u001b[0m\u001b[1;33m[\u001b[0m\u001b[1;33m~\u001b[0m\u001b[0mmask\u001b[0m\u001b[1;33m]\u001b[0m\u001b[1;33m\u001b[0m\u001b[1;33m\u001b[0m\u001b[0m\n\u001b[0;32m   5593\u001b[0m         \u001b[1;32mreturn\u001b[0m \u001b[0mself\u001b[0m\u001b[1;33m.\u001b[0m\u001b[0mdelete\u001b[0m\u001b[1;33m(\u001b[0m\u001b[0mindexer\u001b[0m\u001b[1;33m)\u001b[0m\u001b[1;33m\u001b[0m\u001b[1;33m\u001b[0m\u001b[0m\n",
      "\u001b[1;31mKeyError\u001b[0m: \"['Warehouse'] not found in axis\""
     ]
    }
   ],
   "source": [
    "# Convert date from string to datetime and remove unneeded data points\n",
    "\n",
    "product_data['Date']= pd.to_datetime(product_data['Date'])\n",
    "product_data = product_data.drop_duplicates()\n",
    "product_data = product_data.drop(\"Warehouse\", axis = 1)\n",
    "product_data = product_data[~product_data[\"Date\"].isna()]"
   ]
  },
  {
   "cell_type": "code",
   "execution_count": 5,
   "id": "14271bf6",
   "metadata": {},
   "outputs": [],
   "source": [
    "# Select product 1295\n",
    "\n",
    "product_1295 = product_data[product_data[\"Product_Code\"]==\"Product_1295\"]"
   ]
  },
  {
   "cell_type": "code",
   "execution_count": 6,
   "id": "3a208315",
   "metadata": {},
   "outputs": [],
   "source": [
    "# Index date and group by month\n",
    "\n",
    "product_1295.set_index(\"Date\", inplace=True)\n",
    "product_1295 = product_1295.groupby(pd.Grouper(freq='M'))['Order_Demand'].sum()"
   ]
  },
  {
   "cell_type": "code",
   "execution_count": 7,
   "id": "2bb41f69",
   "metadata": {},
   "outputs": [
    {
     "data": {
      "text/plain": [
       "Text(0, 0.5, 'Order Demand')"
      ]
     },
     "execution_count": 7,
     "metadata": {},
     "output_type": "execute_result"
    },
    {
     "data": {
      "image/png": "[encoded data removed]",
      "text/plain": [
       "<Figure size 432x288 with 1 Axes>"
      ]
     },
     "metadata": {
      "needs_background": "light"
     },
     "output_type": "display_data"
    }
   ],
   "source": [
    "# Plot product 1295 data against order demand\n",
    "\n",
    "product_1295.plot()\n",
    "plt.title(\"Order demand / Time for product 1295\") \n",
    "plt.xlabel(\"Date\") \n",
    "plt.ylabel(\"Order Demand\")"
   ]
  },
  {
   "cell_type": "code",
   "execution_count": 8,
   "id": "7f1cfa33",
   "metadata": {},
   "outputs": [
    {
     "name": "stdout",
     "output_type": "stream",
     "text": [
      "Product_1359\n"
     ]
    }
   ],
   "source": [
    "# Prints out most in demand product\n",
    "\n",
    "total_product_demand = product_data.groupby(['Product_Code']).count()['Order_Demand']\n",
    "print(total_product_demand.idxmax())"
   ]
  },
  {
   "cell_type": "code",
   "execution_count": 9,
   "id": "a00cb9ea",
   "metadata": {},
   "outputs": [
    {
     "data": {
      "text/plain": [
       "Text(0, 0.5, 'Order Demand')"
      ]
     },
     "execution_count": 9,
     "metadata": {},
     "output_type": "execute_result"
    },
    {
     "data": {
      "image/png": "[encoded data removed]",
      "text/plain": [
       "<Figure size 432x288 with 1 Axes>"
      ]
     },
     "metadata": {
      "needs_background": "light"
     },
     "output_type": "display_data"
    }
   ],
   "source": [
    "# Display bar chart for top 5 most in demand products\n",
    "\n",
    "total_product_demand.sort_values(ascending = False).head(5).plot.bar()\n",
    "plt.title(\"Most in demand products\") \n",
    "plt.xlabel(\"Product Code\") \n",
    "plt.ylabel(\"Order Demand\")"
   ]
  },
  {
   "cell_type": "code",
   "execution_count": 10,
   "id": "a8eb59d2",
   "metadata": {},
   "outputs": [],
   "source": [
    "product_1359 = product_data[product_data[\"Product_Code\"]==\"Product_1359\"]\n",
    "product_1359.set_index(\"Date\", inplace=True)\n",
    "product_1359 = product_1359.groupby(pd.Grouper(freq='M'))['Order_Demand'].sum()"
   ]
  },
  {
   "cell_type": "code",
   "execution_count": 11,
   "id": "4542a34e",
   "metadata": {},
   "outputs": [
    {
     "data": {
      "text/plain": [
       "Text(0, 0.5, 'Order_Demand')"
      ]
     },
     "execution_count": 11,
     "metadata": {},
     "output_type": "execute_result"
    },
    {
     "data": {
      "image/png": "[encoded data removed]",
      "text/plain": [
       "<Figure size 432x288 with 1 Axes>"
      ]
     },
     "metadata": {
      "needs_background": "light"
     },
     "output_type": "display_data"
    }
   ],
   "source": [
    "product_1359.plot()\n",
    "plt.title(\"Order Demand / Time for product 1359\") \n",
    "plt.xlabel(\"Date\") \n",
    "plt.ylabel(\"Order_Demand\")"
   ]
  },
  {
   "cell_type": "code",
   "execution_count": 12,
   "id": "db718b22",
   "metadata": {},
   "outputs": [
    {
     "data": {
      "text/plain": [
       "pandas.core.series.Series"
      ]
     },
     "execution_count": 12,
     "metadata": {},
     "output_type": "execute_result"
    }
   ],
   "source": [
    "type(product_1359)"
   ]
  },
  {
   "cell_type": "markdown",
   "id": "c5e97fed",
   "metadata": {},
   "source": [
    "# Start of regression analysis for product 1359\n"
   ]
  },
  {
   "cell_type": "code",
   "execution_count": 13,
   "id": "a3c9d546",
   "metadata": {},
   "outputs": [],
   "source": [
    "# Start to seperate out training and testing data. Note date values not in the ideal format, unfortunately...\n",
    "\n",
    "x = np.arange(0,len(product_1359.index)).reshape(-1,1)\n",
    "y = product_1359.values"
   ]
  },
  {
   "cell_type": "code",
   "execution_count": 14,
   "id": "a8ab4776",
   "metadata": {},
   "outputs": [],
   "source": [
    "x_train, x_test, y_train, y_test = train_test_split(x, y, test_size=0.2, random_state=42)"
   ]
  },
  {
   "cell_type": "code",
   "execution_count": 15,
   "id": "1c8de19f",
   "metadata": {},
   "outputs": [],
   "source": [
    "# Linear regression model\n",
    "\n",
    "model_linear = sklearn.linear_model.LinearRegression()"
   ]
  },
  {
   "cell_type": "code",
   "execution_count": 16,
   "id": "26f89e09",
   "metadata": {},
   "outputs": [
    {
     "data": {
      "text/plain": [
       "LinearRegression()"
      ]
     },
     "execution_count": 16,
     "metadata": {},
     "output_type": "execute_result"
    }
   ],
   "source": [
    "# Train model\n",
    "\n",
    "model_linear.fit(x_train, y_train)"
   ]
  },
  {
   "cell_type": "code",
   "execution_count": 17,
   "id": "f4e78bf6",
   "metadata": {},
   "outputs": [],
   "source": [
    "# Apply model on test data\n",
    "\n",
    "prediction_1359 = model_linear.predict(x_test)"
   ]
  },
  {
   "cell_type": "code",
   "execution_count": 18,
   "id": "7664a265",
   "metadata": {
    "scrolled": true
   },
   "outputs": [
    {
     "data": {
      "text/plain": [
       "Text(0, 0.5, 'Order_Demand')"
      ]
     },
     "execution_count": 18,
     "metadata": {},
     "output_type": "execute_result"
    },
    {
     "data": {
      "image/png": "[encoded data removed]",
      "text/plain": [
       "<Figure size 432x288 with 1 Axes>"
      ]
     },
     "metadata": {
      "needs_background": "light"
     },
     "output_type": "display_data"
    }
   ],
   "source": [
    "# Plot linear regression\n",
    "\n",
    "plt.scatter(x_test, y_test, color=\"black\")\n",
    "plt.plot(x_test,prediction_1359, color=\"red\", linewidth=2)\n",
    "plt.title(\"linear product_1359\") \n",
    "plt.xlabel(\"Timescale\") \n",
    "plt.ylabel(\"Order_Demand\")"
   ]
  },
  {
   "cell_type": "code",
   "execution_count": 19,
   "id": "8f822ae5",
   "metadata": {},
   "outputs": [
    {
     "name": "stdout",
     "output_type": "stream",
     "text": [
      "[-21036.22933062]\n",
      "7120917.948918732\n"
     ]
    }
   ],
   "source": [
    "# Calculate coefficients\n",
    "\n",
    "linear_slope = model_linear.coef_\n",
    "linear_intercept = model_linear.intercept_\n",
    "print(linear_slope)\n",
    "print(linear_intercept)"
   ]
  },
  {
   "cell_type": "code",
   "execution_count": 20,
   "id": "27f4af17",
   "metadata": {},
   "outputs": [],
   "source": [
    "# Start of polynomial code\n",
    "\n",
    "x =  np.arange(0,len(product_1359.index))"
   ]
  },
  {
   "cell_type": "code",
   "execution_count": 21,
   "id": "692498eb",
   "metadata": {},
   "outputs": [],
   "source": [
    "x_train, x_test, y_train, y_test = train_test_split(x, product_1359.values, test_size=0.2, shuffle = False)"
   ]
  },
  {
   "cell_type": "code",
   "execution_count": 22,
   "id": "960edb29",
   "metadata": {},
   "outputs": [
    {
     "name": "stdout",
     "output_type": "stream",
     "text": [
      "           7          6         5         4             3             2\n",
      "-0.001307 x + 0.2637 x - 21.23 x + 870.7 x - 1.922e+04 x + 2.186e+05 x - 1.051e+06 x + 7.729e+06\n"
     ]
    }
   ],
   "source": [
    "z = np.polyfit(x, product_1359.values, 7) # Change value for different plotting. Value represents the degree. \n",
    "f = np.poly1d(z)\n",
    "print(f)"
   ]
  },
  {
   "cell_type": "code",
   "execution_count": 23,
   "id": "d056a8d8",
   "metadata": {
    "scrolled": false
   },
   "outputs": [
    {
     "data": {
      "text/plain": [
       "Text(0, 0.5, 'Order_Demand')"
      ]
     },
     "execution_count": 23,
     "metadata": {},
     "output_type": "execute_result"
    },
    {
     "data": {
      "image/png": "[encoded data removed]",
      "text/plain": [
       "<Figure size 432x288 with 1 Axes>"
      ]
     },
     "metadata": {
      "needs_background": "light"
     },
     "output_type": "display_data"
    }
   ],
   "source": [
    "plt.scatter(x, y)\n",
    "plt.plot(x, f(x), '-r') # plot poly for p_1359\n",
    "\n",
    "plt.title(\"Polynomial product_1359, degrees = 7\") \n",
    "plt.xlabel(\"Timescale\") \n",
    "plt.ylabel(\"Order_Demand\")"
   ]
  },
  {
   "cell_type": "code",
   "execution_count": 24,
   "id": "4161e49b",
   "metadata": {
    "scrolled": true
   },
   "outputs": [
    {
     "name": "stdout",
     "output_type": "stream",
     "text": [
      "[1182722.4414166918, 1092905.2866453086, 1074007.6981109723, 1066369.7199206925, 982557.4529183145, 968919.4472610956, 920279.1522168195, 872836.6838295195, 839288.08783568, 821247.7712834416, 820204.9244933033, 813419.8227846215, 804022.6948723502, 798202.4523557771, 774098.9224795882, 768779.8067035221, 754269.9771370313, 754243.5002270569]\n"
     ]
    }
   ],
   "source": [
    "# Calculating the RMSE for product 1359. Iterate through a for loop for values 1 to 19.\n",
    "\n",
    "RMSE_array = []\n",
    "\n",
    "for i in range (1, 19):\n",
    "    z = np.polyfit(x, product_1359.values, i)\n",
    "    f = np.poly1d(z)\n",
    "    \n",
    "    modelPredictions = np.polyval(z, x)\n",
    "    absError = modelPredictions - product_1359.values\n",
    "    SE = np.square(absError) # squared errors\n",
    "    MSE = np.mean(SE) # mean squared errors\n",
    "    RMSE = np.sqrt(MSE) # Root Mean Squared Error, RMSE\n",
    "    RMSE_array.append(RMSE)\n",
    "print(RMSE_array) # Prints into an array"
   ]
  },
  {
   "cell_type": "code",
   "execution_count": 25,
   "id": "c065a110",
   "metadata": {},
   "outputs": [
    {
     "data": {
      "image/png": "[encoded data removed]",
      "text/plain": [
       "<Figure size 432x288 with 1 Axes>"
      ]
     },
     "metadata": {
      "needs_background": "light"
     },
     "output_type": "display_data"
    }
   ],
   "source": [
    "# Plot RMSE graph\n",
    "\n",
    "x = np.arange(1, 19)\n",
    "y = np.array(RMSE_array)\n",
    "plt.title(\"Line graph\")\n",
    "plt.xlabel(\"Degree\")\n",
    "plt.ylabel(\"RMSE\")\n",
    "plt.plot(x, y, color =\"green\")\n",
    "plt.show()"
   ]
  },
  {
   "cell_type": "markdown",
   "id": "640a327a",
   "metadata": {},
   "source": [
    "# Start of product_1295"
   ]
  },
  {
   "cell_type": "code",
   "execution_count": 26,
   "id": "fcd51c7f",
   "metadata": {},
   "outputs": [],
   "source": [
    "x1 = np.arange(0,len(product_1295.index)).reshape(-1,1)\n",
    "y1 = product_1295.values"
   ]
  },
  {
   "cell_type": "code",
   "execution_count": 27,
   "id": "76971315",
   "metadata": {},
   "outputs": [],
   "source": [
    "x1_train, x1_test, y1_train, y1_test = train_test_split(x1, y1, test_size=0.2, random_state=42)"
   ]
  },
  {
   "cell_type": "code",
   "execution_count": 28,
   "id": "27d39579",
   "metadata": {},
   "outputs": [],
   "source": [
    "model_linear_1295 = sklearn.linear_model.LinearRegression()"
   ]
  },
  {
   "cell_type": "code",
   "execution_count": 29,
   "id": "e7f40fb7",
   "metadata": {},
   "outputs": [
    {
     "data": {
      "text/plain": [
       "LinearRegression()"
      ]
     },
     "execution_count": 29,
     "metadata": {},
     "output_type": "execute_result"
    }
   ],
   "source": [
    "model_linear_1295.fit(x1_train, y1_train)"
   ]
  },
  {
   "cell_type": "code",
   "execution_count": 30,
   "id": "0ca06f01",
   "metadata": {},
   "outputs": [],
   "source": [
    "prediction_1295 = model_linear_1295.predict(x1_test)"
   ]
  },
  {
   "cell_type": "code",
   "execution_count": 31,
   "id": "77d0d8c8",
   "metadata": {
    "scrolled": true
   },
   "outputs": [
    {
     "data": {
      "text/plain": [
       "Text(0, 0.5, 'Order_Demand')"
      ]
     },
     "execution_count": 31,
     "metadata": {},
     "output_type": "execute_result"
    },
    {
     "data": {
      "image/png": "[encoded data removed]",
      "text/plain": [
       "<Figure size 432x288 with 1 Axes>"
      ]
     },
     "metadata": {
      "needs_background": "light"
     },
     "output_type": "display_data"
    }
   ],
   "source": [
    "plt.scatter(x1_test, y1_test, color=\"black\")\n",
    "plt.plot(x1_test,prediction_1295, color=\"red\", linewidth=2)\n",
    "plt.title(\"linear product_1295\") \n",
    "plt.xlabel(\"Timescale\") \n",
    "plt.ylabel(\"Order_Demand\")"
   ]
  },
  {
   "cell_type": "code",
   "execution_count": 32,
   "id": "2228185b",
   "metadata": {},
   "outputs": [
    {
     "name": "stdout",
     "output_type": "stream",
     "text": [
      "[8991.674114]\n",
      "1252054.474785446\n"
     ]
    }
   ],
   "source": [
    "linear_slope1 = model_linear_1295.coef_\n",
    "linear_intercept1 = model_linear_1295.intercept_\n",
    "print(linear_slope1)\n",
    "print(linear_intercept1)"
   ]
  },
  {
   "cell_type": "code",
   "execution_count": 33,
   "id": "59c4ae37",
   "metadata": {},
   "outputs": [],
   "source": [
    "x1 =  np.arange(0,len(product_1295.index))\n"
   ]
  },
  {
   "cell_type": "code",
   "execution_count": 34,
   "id": "49bd62be",
   "metadata": {},
   "outputs": [],
   "source": [
    "x1_train, x1_test, y1_train, y1_test = train_test_split(x1, product_1295.values, test_size=0.2, shuffle = False)"
   ]
  },
  {
   "cell_type": "code",
   "execution_count": 35,
   "id": "2c3fa879",
   "metadata": {},
   "outputs": [
    {
     "name": "stdout",
     "output_type": "stream",
     "text": [
      "            7            6          5         4         3             2\n",
      "-2.656e-05 x + 0.006783 x - 0.6693 x + 33.86 x - 967.4 x + 1.514e+04 x - 8.797e+04 x + 1.285e+06\n"
     ]
    }
   ],
   "source": [
    "z = np.polyfit(x1, product_1295.values, 7)\n",
    "f = np.poly1d(z)\n",
    "print(f)"
   ]
  },
  {
   "cell_type": "code",
   "execution_count": 36,
   "id": "b0c73b24",
   "metadata": {
    "scrolled": true
   },
   "outputs": [
    {
     "data": {
      "text/plain": [
       "Text(0, 0.5, 'Order_Demand')"
      ]
     },
     "execution_count": 36,
     "metadata": {},
     "output_type": "execute_result"
    },
    {
     "data": {
      "image/png": "[encoded data removed]",
      "text/plain": [
       "<Figure size 432x288 with 1 Axes>"
      ]
     },
     "metadata": {
      "needs_background": "light"
     },
     "output_type": "display_data"
    }
   ],
   "source": [
    "plt.scatter(x1, y1)\n",
    "plt.plot(x1, f(x1), '-r') # plot poly for p_1295\n",
    "plt.title(\"Polynomial product_1295, degrees = 7\") \n",
    "plt.xlabel(\"Timescale\") \n",
    "plt.ylabel(\"Order_Demand\")"
   ]
  },
  {
   "cell_type": "code",
   "execution_count": 37,
   "id": "7a603448",
   "metadata": {},
   "outputs": [
    {
     "name": "stdout",
     "output_type": "stream",
     "text": [
      "[240225.11440003343, 226780.32970007937, 225646.5606905705, 208215.85250579164, 208097.44265919406, 207319.9579244318, 207247.40278461392, 206937.725243787, 204527.19790398842, 203911.26023866318, 202862.06689504065, 199448.92416813588, 198502.75498491334, 197757.18949256308, 197534.4404795452, 191967.85998150066, 188810.64894747158, 186014.35158009492]\n"
     ]
    }
   ],
   "source": [
    "# Calculating the RMSE for product 1295\n",
    "\n",
    "RMSE_array = []\n",
    "\n",
    "for i in range (1, 19):\n",
    "    z = np.polyfit(x1, product_1295.values, i)\n",
    "    f = np.poly1d(z)\n",
    "    \n",
    "    modelPredictions = np.polyval(z, x1)\n",
    "    absError = modelPredictions - y1\n",
    "    SE = np.square(absError) # squared errors\n",
    "    MSE = np.mean(SE) # mean squared errors\n",
    "    RMSE = np.sqrt(MSE) # Root Mean Squared Error, RMSE\n",
    "    RMSE_array.append(RMSE)\n",
    "print(RMSE_array)"
   ]
  },
  {
   "cell_type": "code",
   "execution_count": 38,
   "id": "1e6aef5c",
   "metadata": {},
   "outputs": [
    {
     "data": {
      "image/png": "[encoded data removed]",
      "text/plain": [
       "<Figure size 432x288 with 1 Axes>"
      ]
     },
     "metadata": {
      "needs_background": "light"
     },
     "output_type": "display_data"
    }
   ],
   "source": [
    "x = np.arange(1, 19)\n",
    "y = np.array(RMSE_array)\n",
    "plt.title(\"Line graph\")\n",
    "plt.xlabel(\"Degree\")\n",
    "plt.ylabel(\"RMSE\")\n",
    "plt.plot(x, y, color =\"green\")\n",
    "plt.show()"
   ]
  }
 ],
 "metadata": {
  "kernelspec": {
   "display_name": "Python 3",
   "language": "python",
   "name": "python3"
  },
  "language_info": {
   "codemirror_mode": {
    "name": "ipython",
    "version": 3
   },
   "file_extension": ".py",
   "mimetype": "text/x-python",
   "name": "python",
   "nbconvert_exporter": "python",
   "pygments_lexer": "ipython3",
   "version": "3.8.8"
  }
 },
 "nbformat": 4,
 "nbformat_minor": 5
}
